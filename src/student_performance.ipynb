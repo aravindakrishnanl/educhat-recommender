{
 "cells": [
  {
   "cell_type": "code",
   "execution_count": null,
   "id": "5332a5eb",
   "metadata": {},
   "outputs": [],
   "source": [
    "import pandas as pd\n",
    "import numpy as np\n",
    "from sklearn.model_selection import train_test_split\n",
    "from sklearn.ensemble import RandomForestClassifier\n",
    "from sklearn.metrics import classification_report, accuracy_score\n",
    "import json\n",
    "\n",
    "users = pd.read_csv(\"../database/users.csv\")\n",
    "students_profile = pd.read_csv(\"../database/students_profile.csv\")\n",
    "content = pd.read_csv(\"../database/content_items.csv\")\n",
    "interactions = pd.read_csv(\"../database/interactions.csv\")"
   ]
  },
  {
   "cell_type": "code",
   "execution_count": null,
   "id": "0c6970d8",
   "metadata": {},
   "outputs": [],
   "source": [
    "def expand_skills(row):\n",
    "    try:\n",
    "        return pd.Series(json.loads(row))\n",
    "    except:\n",
    "        return pd.Series({})\n",
    "\n",
    "skills_df = students_profile[\"skills_mastery\"].apply(expand_skills)\n",
    "skills_df = pd.concat([students_profile[[\"user_id\"]], skills_df], axis=1)\n",
    "\n",
    "# Merge user + skill data\n",
    "merged_users = users.merge(skills_df, left_on=\"id\", right_on=\"user_id\", how=\"left\")\n",
    "merged_users.drop(columns=[\"user_id\"], inplace=True)\n",
    "\n",
    "# Merge interactions with user and content data\n",
    "merged = interactions.merge(merged_users, left_on=\"user_id\", right_on=\"id\", how=\"left\")\n",
    "merged = merged.merge(content[[\"id\", \"difficulty\"]], left_on=\"item_id\", right_on=\"id\", suffixes=('', '_content'))\n",
    "\n",
    "# Clean up and fill missing values\n",
    "merged.drop(columns=[\"response_text\", \"timestamp\", \"action\", \"id_content\"], inplace=True, errors='ignore')\n",
    "merged['correct'] = merged['correct'].astype(int)\n",
    "merged.fillna(0, inplace=True)"
   ]
  },
  {
   "cell_type": "code",
   "execution_count": 22,
   "id": "6303bf0f",
   "metadata": {},
   "outputs": [],
   "source": [
    "# Helper to encode only if column exists\n",
    "def safe_encode(df, col):\n",
    "    if col in df.columns:\n",
    "        df[col] = df[col].astype('category').cat.codes\n",
    "    else:\n",
    "        print(f\"⚠️ Column '{col}' not found — skipped encoding.\")\n",
    "\n",
    "safe_encode(merged, 'preferences')\n",
    "safe_encode(merged, 'goal')\n",
    "safe_encode(merged, 'difficulty')"
   ]
  },
  {
   "cell_type": "code",
   "execution_count": 23,
   "id": "d03b99f0",
   "metadata": {},
   "outputs": [],
   "source": [
    "# Start with guaranteed features\n",
    "base_features = ['time_taken', 'difficulty']\n",
    "\n",
    "# Add optional ones only if they exist\n",
    "optional_features = [f for f in ['stream', 'year_of_study', 'cgpa', 'career_goal'] if f in merged.columns]\n",
    "\n",
    "# Add skill columns\n",
    "skill_features = [c for c in skills_df.columns if c != 'user_id']\n",
    "\n",
    "# Combine all\n",
    "features = base_features + optional_features + skill_features\n",
    "X = merged[features]\n",
    "y = merged['correct']"
   ]
  },
  {
   "cell_type": "code",
   "execution_count": 24,
   "id": "1def8afd",
   "metadata": {},
   "outputs": [],
   "source": [
    "X_train, X_test, y_train, y_test = train_test_split(X, y, test_size=0.2, random_state=42)\n",
    "\n",
    "model = RandomForestClassifier(n_estimators=120, random_state=42)\n",
    "model.fit(X_train, y_train)\n",
    "\n",
    "y_pred = model.predict(X_test)"
   ]
  },
  {
   "cell_type": "code",
   "execution_count": 25,
   "id": "e0b77716",
   "metadata": {},
   "outputs": [
    {
     "name": "stdout",
     "output_type": "stream",
     "text": [
      "Accuracy: 0.499\n",
      "\n",
      "Classification Report:\n",
      "               precision    recall  f1-score   support\n",
      "\n",
      "           0       0.50      0.51      0.51       455\n",
      "           1       0.49      0.49      0.49       445\n",
      "\n",
      "    accuracy                           0.50       900\n",
      "   macro avg       0.50      0.50      0.50       900\n",
      "weighted avg       0.50      0.50      0.50       900\n",
      "\n"
     ]
    }
   ],
   "source": [
    "print(\"Accuracy:\", round(accuracy_score(y_test, y_pred), 3))\n",
    "print(\"\\nClassification Report:\\n\", classification_report(y_test, y_pred))"
   ]
  },
  {
   "cell_type": "code",
   "execution_count": 26,
   "id": "e335b5fc",
   "metadata": {},
   "outputs": [
    {
     "name": "stdout",
     "output_type": "stream",
     "text": [
      "\n",
      "Top 5 Important Features:\n",
      " time_taken       0.592329\n",
      "difficulty       0.106156\n",
      "Programming      0.045528\n",
      "Communication    0.044056\n",
      "Physics          0.043830\n",
      "dtype: float64\n"
     ]
    },
    {
     "data": {
      "image/png": "[encoded data removed]",
      "text/plain": [
       "<Figure size 700x400 with 1 Axes>"
      ]
     },
     "metadata": {},
     "output_type": "display_data"
    }
   ],
   "source": [
    "import matplotlib.pyplot as plt\n",
    "\n",
    "importances = pd.Series(model.feature_importances_, index=X.columns).sort_values(ascending=False)\n",
    "print(\"\\nTop 5 Important Features:\\n\", importances.head())\n",
    "\n",
    "# Optional visualization\n",
    "importances.head(10).plot(kind='barh', title='Feature Importance', figsize=(7,4))\n",
    "plt.show()\n"
   ]
  },
  {
   "cell_type": "code",
   "execution_count": 27,
   "id": "24979e95",
   "metadata": {},
   "outputs": [
    {
     "name": "stdout",
     "output_type": "stream",
     "text": [
      "\n",
      "Sample Prediction → Incorrect\n"
     ]
    }
   ],
   "source": [
    "sample = X.sample(1, random_state=42)\n",
    "prediction = model.predict(sample)[0]\n",
    "print(\"\\nSample Prediction →\", \"Correct\" if prediction == 1 else \"Incorrect\")\n"
   ]
  }
 ],
 "metadata": {
  "kernelspec": {
   "display_name": "Cuda Kernel",
   "language": "python",
   "name": "myenv"
  },
  "language_info": {
   "codemirror_mode": {
    "name": "ipython",
    "version": 3
   },
   "file_extension": ".py",
   "mimetype": "text/x-python",
   "name": "python",
   "nbconvert_exporter": "python",
   "pygments_lexer": "ipython3",
   "version": "3.12.3"
  }
 },
 "nbformat": 4,
 "nbformat_minor": 5
}
