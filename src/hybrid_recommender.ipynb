{
 "cells": [
  {
   "cell_type": "code",
   "execution_count": 3,
   "id": "476cefad",
   "metadata": {},
   "outputs": [],
   "source": [
    "import json\n",
    "import numpy as np\n",
    "import pandas as pd\n",
    "from sklearn.metrics.pairwise import cosine_similarity\n",
    "from sklearn.decomposition import TruncatedSVD\n",
    "from sklearn.preprocessing import normalize\n",
    "from scipy.sparse import csr_matrix\n",
    "\n",
    "users = pd.read_csv(\"../database/users.csv\")\n",
    "students_profile = pd.read_csv(\"../database/students_profile.csv\")\n",
    "content = pd.read_csv(\"../database/content_items.csv\")\n",
    "interactions = pd.read_csv(\"../database/interactions.csv\")\n",
    "recommendation_logs = pd.read_csv(\"../database/recommendation_logs.csv\")"
   ]
  },
  {
   "cell_type": "code",
   "execution_count": 7,
   "id": "4ffbc29a",
   "metadata": {},
   "outputs": [],
   "source": [
    "# Try embeddings\n",
    "def parse_embedding(x):\n",
    "    if pd.isna(x):\n",
    "        return None\n",
    "    if isinstance(x, (list, np.ndarray)):\n",
    "        return np.array(x, dtype=float)\n",
    "    try:\n",
    "        return np.array(json.loads(x), dtype=float)\n",
    "    except Exception:\n",
    "        return None\n",
    "\n",
    "content['embed'] = content.get('embedding_vector', None).apply(parse_embedding) if 'embedding_vector' in content.columns else None\n",
    "\n",
    "# If no embeddings or many missing, construct a simple skill-tag TF vector\n",
    "if content['embed'] is None or content['embed'].apply(lambda v: v is None).sum() > len(content) * 0.4:\n",
    "    print(\"Embeddings unavailable or sparse — building tag-based vectors from skills_tags.\")\n",
    "    # build vocabulary of tags\n",
    "    content['skills_tags'] = content.get('skills_tags', \"\").fillna(\"\").astype(str)\n",
    "    tag_lists = content['skills_tags'].apply(lambda s: [t.strip().lower() for t in s.split(\",\") if t.strip()])\n",
    "    all_tags = sorted({t for tags in tag_lists for t in tags})\n",
    "    tag_to_idx = {t:i for i,t in enumerate(all_tags)}\n",
    "    def tags_to_vec(tags):\n",
    "        vec = np.zeros(len(all_tags), dtype=float)\n",
    "        for t in tags:\n",
    "            vec[tag_to_idx[t]] = 1.0\n",
    "        return vec\n",
    "    content['embed_vec'] = tag_lists.apply(tags_to_vec)\n",
    "else:\n",
    "    dims = max([len(e) for e in content['embed'].dropna()]) if content['embed'].dropna().shape[0] > 0 else 0  #filling missing\n",
    "    content['embed_vec'] = content['embed'].apply(lambda e: np.zeros(dims) if e is None else e)\n"
   ]
  },
  {
   "cell_type": "code",
   "execution_count": 8,
   "id": "1dec10aa",
   "metadata": {},
   "outputs": [],
   "source": [
    "# Stack into matrix and normalize\n",
    "X = np.vstack(content['embed_vec'].values)\n",
    "X = np.nan_to_num(X)   # safety\n",
    "Xn = normalize(X)      # normalize rows for cosine\n",
    "content_sim = cosine_similarity(Xn)  # content_count x content_count\n",
    "# Map content index to id/title\n",
    "content_idx_to_id = content['id'].tolist() if 'id' in content.columns else content.index.tolist()\n",
    "content_id_to_idx = {cid:i for i,cid in enumerate(content_idx_to_id)}\n"
   ]
  },
  {
   "cell_type": "code",
   "execution_count": 11,
   "id": "a5f66146",
   "metadata": {},
   "outputs": [],
   "source": [
    "if 'item_id' not in interactions.columns and 'content_id' in interactions.columns:\n",
    "    interactions = interactions.rename(columns={'content_id': 'item_id'})\n",
    "\n",
    "interactions['user_id'] = interactions['user_id'].astype(str)\n",
    "interactions['item_id'] = interactions['item_id'].astype(str)"
   ]
  },
  {
   "cell_type": "code",
   "execution_count": 12,
   "id": "f0e5bc35",
   "metadata": {},
   "outputs": [],
   "source": [
    "interactions['time_min'] = pd.to_numeric(interactions.get('time_taken', 0), errors='coerce').fillna(0) / 60.0\n",
    "interactions['correct'] = pd.to_numeric(interactions.get('correct', 0), errors='coerce').fillna(0).astype(float)\n",
    "\n",
    "if interactions['time_min'].max() > 0:\n",
    "    interactions['time_norm'] = interactions['time_min'] / interactions['time_min'].max()\n",
    "else:\n",
    "    interactions['time_norm'] = 0.0"
   ]
  },
  {
   "cell_type": "code",
   "execution_count": 13,
   "id": "635c3b92",
   "metadata": {},
   "outputs": [],
   "source": [
    "alpha, beta = 0.3, 0.7  # weight more on correctness\n",
    "interactions['implicit_score'] = alpha * interactions['time_norm'] + beta * interactions['correct']\n",
    "\n",
    "# group by (user, item)\n",
    "ui = interactions.groupby(['user_id', 'item_id'])['implicit_score'].sum().reset_index()"
   ]
  },
  {
   "cell_type": "code",
   "execution_count": 14,
   "id": "7bcdf3df",
   "metadata": {},
   "outputs": [],
   "source": [
    "user_ids = ui['user_id'].unique().tolist()\n",
    "item_ids = ui['item_id'].unique().tolist()\n",
    "user_to_idx = {u: i for i, u in enumerate(user_ids)}\n",
    "item_to_idx = {it: i for i, it in enumerate(item_ids)}"
   ]
  },
  {
   "cell_type": "code",
   "execution_count": 15,
   "id": "cd9cf4ad",
   "metadata": {},
   "outputs": [],
   "source": [
    "# sparse matrix\n",
    "rows = ui['user_id'].map(user_to_idx)\n",
    "cols = ui['item_id'].map(item_to_idx)\n",
    "data = ui['implicit_score'].values\n",
    "ui_matrix = csr_matrix((data, (rows, cols)), shape=(len(user_ids), len(item_ids)))"
   ]
  },
  {
   "cell_type": "markdown",
   "id": "b4911a52",
   "metadata": {},
   "source": [
    "SVD decomposition"
   ]
  },
  {
   "cell_type": "code",
   "execution_count": 16,
   "id": "72c76f9e",
   "metadata": {},
   "outputs": [],
   "source": [
    "n_comp = min(40, min(ui_matrix.shape) - 1) if min(ui_matrix.shape) > 1 else 1\n",
    "svd = TruncatedSVD(n_components=n_comp, random_state=42)\n",
    "user_factors = svd.fit_transform(ui_matrix)  # users × latent_dims\n",
    "item_factors = svd.components_.T             # items × latent_dims"
   ]
  },
  {
   "cell_type": "code",
   "execution_count": 25,
   "id": "b9435b2b",
   "metadata": {},
   "outputs": [],
   "source": [
    "pred_cf = user_factors.dot(item_factors.T)\n",
    "# pred_cf = (pred_cf - pred_cf.min()) / (pred_cf.max() - pred_cf.min() + 1e-9)  # normalize 0–1\n",
    "# Rescale collaborative filtering predictions for readability\n",
    "pred_cf_scaled = 0.6 + 0.4 * ((pred_cf - pred_cf.min()) / (pred_cf.max() - pred_cf.min() + 1e-9))\n",
    "\n"
   ]
  },
  {
   "cell_type": "code",
   "execution_count": 26,
   "id": "b8f795df",
   "metadata": {},
   "outputs": [],
   "source": [
    "idx_to_user = {i: u for u, i in user_to_idx.items()}\n",
    "idx_to_item = {i: it for it, i in item_to_idx.items()}\n",
    "\n",
    "def recommend_items_for_user(user_id, n=5, exclude_seen=True):\n",
    "    \"\"\"Return top-N recommended item_ids for a given user_id.\"\"\"\n",
    "    if user_id not in user_to_idx:\n",
    "        return []\n",
    "    \n",
    "    u_idx = user_to_idx[user_id]\n",
    "    user_scores = pred_cf[u_idx]\n",
    "    \n",
    "    if exclude_seen:\n",
    "        seen_items = ui[ui['user_id'] == user_id]['item_id'].tolist()\n",
    "        candidate_indices = [item_to_idx[i] for i in item_ids if i not in seen_items]\n",
    "    else:\n",
    "        candidate_indices = list(range(len(item_ids)))\n",
    "    \n",
    "    if not candidate_indices:\n",
    "        return []\n",
    "    \n",
    "    top_idx = np.argsort(user_scores[candidate_indices])[::-1][:n]\n",
    "    top_item_ids = [idx_to_item[candidate_indices[i]] for i in top_idx]\n",
    "    return top_item_ids"
   ]
  },
  {
   "cell_type": "code",
   "execution_count": 27,
   "id": "ca7df7df",
   "metadata": {},
   "outputs": [
    {
     "name": "stdout",
     "output_type": "stream",
     "text": [
      "Recommended items for user_1: ['content_34', 'content_22', 'content_43', 'content_28', 'content_13']\n"
     ]
    }
   ],
   "source": [
    "sample_user = user_ids[0]\n",
    "top_recs = recommend_items_for_user(sample_user, n=5)\n",
    "print(f\"Recommended items for {sample_user}: {top_recs}\")"
   ]
  },
  {
   "cell_type": "code",
   "execution_count": 28,
   "id": "b1805b76",
   "metadata": {},
   "outputs": [],
   "source": [
    "content_df = pd.read_csv(\"../database/content_items.csv\")\n",
    "\n",
    "# make sure id column matches your item_id naming\n",
    "content_df['id'] = content_df['id'].astype(str)\n",
    "\n",
    "def show_enriched_recommendations(user_id, n=5):\n",
    "    \"\"\"Return a rich recommendation table (title, difficulty, etc.) for a given user.\"\"\"\n",
    "    rec_ids = recommend_items_for_user(user_id, n=n)\n",
    "    recs = content_df[content_df['id'].isin(rec_ids)].copy()\n",
    "    \n",
    "    # keep the same recommendation order\n",
    "    recs['order'] = recs['id'].apply(lambda x: rec_ids.index(x) if x in rec_ids else 999)\n",
    "    recs = recs.sort_values('order').drop(columns=['order'])\n",
    "    \n",
    "    # add predicted CF score for each item\n",
    "    u_idx = user_to_idx[user_id]\n",
    "    recs['predicted_score'] = recs['id'].map(\n",
    "        lambda cid: pred_cf[u_idx, item_to_idx[cid]] if cid in item_to_idx else np.nan\n",
    "    )\n",
    "    \n",
    "    return recs[['id', 'title', 'type', 'skills_tags', 'difficulty', 'predicted_score', 'url']]"
   ]
  },
  {
   "cell_type": "code",
   "execution_count": 29,
   "id": "8fbd625f",
   "metadata": {},
   "outputs": [
    {
     "name": "stdout",
     "output_type": "stream",
     "text": [
      "Top Recommendations for user_167:\n"
     ]
    },
    {
     "data": {
      "text/html": [
       "<div>\n",
       "<style scoped>\n",
       "    .dataframe tbody tr th:only-of-type {\n",
       "        vertical-align: middle;\n",
       "    }\n",
       "\n",
       "    .dataframe tbody tr th {\n",
       "        vertical-align: top;\n",
       "    }\n",
       "\n",
       "    .dataframe thead th {\n",
       "        text-align: right;\n",
       "    }\n",
       "</style>\n",
       "<table border=\"1\" class=\"dataframe\">\n",
       "  <thead>\n",
       "    <tr style=\"text-align: right;\">\n",
       "      <th></th>\n",
       "      <th>id</th>\n",
       "      <th>title</th>\n",
       "      <th>type</th>\n",
       "      <th>skills_tags</th>\n",
       "      <th>difficulty</th>\n",
       "      <th>predicted_score</th>\n",
       "      <th>url</th>\n",
       "    </tr>\n",
       "  </thead>\n",
       "  <tbody>\n",
       "    <tr>\n",
       "      <th>14</th>\n",
       "      <td>content_15</td>\n",
       "      <td>Communication - writing Level 1</td>\n",
       "      <td>video</td>\n",
       "      <td>['writing']</td>\n",
       "      <td>1</td>\n",
       "      <td>0.248971</td>\n",
       "      <td>https://educhat.example.com/communication/writ...</td>\n",
       "    </tr>\n",
       "    <tr>\n",
       "      <th>55</th>\n",
       "      <td>content_56</td>\n",
       "      <td>Mathematics - calculus Level 3</td>\n",
       "      <td>exercise</td>\n",
       "      <td>['calculus']</td>\n",
       "      <td>3</td>\n",
       "      <td>0.207340</td>\n",
       "      <td>https://educhat.example.com/mathematics/calcul...</td>\n",
       "    </tr>\n",
       "    <tr>\n",
       "      <th>35</th>\n",
       "      <td>content_36</td>\n",
       "      <td>Physics - thermodynamics Level 3</td>\n",
       "      <td>article</td>\n",
       "      <td>['thermodynamics']</td>\n",
       "      <td>3</td>\n",
       "      <td>0.203218</td>\n",
       "      <td>https://educhat.example.com/physics/thermodyna...</td>\n",
       "    </tr>\n",
       "    <tr>\n",
       "      <th>19</th>\n",
       "      <td>content_20</td>\n",
       "      <td>Communication - writing Level 2</td>\n",
       "      <td>article</td>\n",
       "      <td>['writing']</td>\n",
       "      <td>2</td>\n",
       "      <td>0.184628</td>\n",
       "      <td>https://educhat.example.com/communication/writ...</td>\n",
       "    </tr>\n",
       "    <tr>\n",
       "      <th>0</th>\n",
       "      <td>content_1</td>\n",
       "      <td>Mathematics - geometry Level 3</td>\n",
       "      <td>video</td>\n",
       "      <td>['geometry']</td>\n",
       "      <td>3</td>\n",
       "      <td>0.175709</td>\n",
       "      <td>https://educhat.example.com/mathematics/geomet...</td>\n",
       "    </tr>\n",
       "  </tbody>\n",
       "</table>\n",
       "</div>"
      ],
      "text/plain": [
       "            id                             title      type  \\\n",
       "14  content_15   Communication - writing Level 1     video   \n",
       "55  content_56    Mathematics - calculus Level 3  exercise   \n",
       "35  content_36  Physics - thermodynamics Level 3   article   \n",
       "19  content_20   Communication - writing Level 2   article   \n",
       "0    content_1    Mathematics - geometry Level 3     video   \n",
       "\n",
       "           skills_tags  difficulty  predicted_score  \\\n",
       "14         ['writing']           1         0.248971   \n",
       "55        ['calculus']           3         0.207340   \n",
       "35  ['thermodynamics']           3         0.203218   \n",
       "19         ['writing']           2         0.184628   \n",
       "0         ['geometry']           3         0.175709   \n",
       "\n",
       "                                                  url  \n",
       "14  https://educhat.example.com/communication/writ...  \n",
       "55  https://educhat.example.com/mathematics/calcul...  \n",
       "35  https://educhat.example.com/physics/thermodyna...  \n",
       "19  https://educhat.example.com/communication/writ...  \n",
       "0   https://educhat.example.com/mathematics/geomet...  "
      ]
     },
     "metadata": {},
     "output_type": "display_data"
    }
   ],
   "source": [
    "\n",
    "sample_user = user_ids[75]\n",
    "recommendations = show_enriched_recommendations(sample_user, n=5)\n",
    "print(f\"Top Recommendations for {sample_user}:\")\n",
    "display(recommendations)\n"
   ]
  },
  {
   "cell_type": "code",
   "execution_count": null,
   "id": "472894d1",
   "metadata": {},
   "outputs": [],
   "source": []
  }
 ],
 "metadata": {
  "kernelspec": {
   "display_name": "Cuda Kernel",
   "language": "python",
   "name": "myenv"
  },
  "language_info": {
   "codemirror_mode": {
    "name": "ipython",
    "version": 3
   },
   "file_extension": ".py",
   "mimetype": "text/x-python",
   "name": "python",
   "nbconvert_exporter": "python",
   "pygments_lexer": "ipython3",
   "version": "3.12.3"
  }
 },
 "nbformat": 4,
 "nbformat_minor": 5
}
