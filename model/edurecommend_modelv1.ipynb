{
  "cells": [
    {
      "cell_type": "markdown",
      "metadata": {
        "id": "view-in-github",
        "colab_type": "text"
      },
      "source": [
        "<a href=\"https://colab.research.google.com/github/aravindakrishnanl/educhat-recommender/blob/main/edurecommend_modelv1.ipynb\" target=\"_parent\"><img src=\"https://colab.research.google.com/assets/colab-badge.svg\" alt=\"Open In Colab\"/></a>"
      ]
    },
    {
      "cell_type": "code",
      "execution_count": null,
      "metadata": {
        "colab": {
          "base_uri": "https://localhost:8080/"
        },
        "id": "1hR6X0oOM_7E",
        "outputId": "1dcb8275-702b-42bb-9eec-0bac468e8842"
      },
      "outputs": [
        {
          "name": "stdout",
          "output_type": "stream",
          "text": [
            "Cloning into 'educhat-recommender'...\n",
            "remote: Enumerating objects: 31, done.\u001b[K\n",
            "remote: Counting objects: 100% (31/31), done.\u001b[K\n",
            "remote: Compressing objects: 100% (23/23), done.\u001b[K\n",
            "remote: Total 31 (delta 5), reused 15 (delta 1), pack-reused 0 (from 0)\u001b[K\n",
            "Receiving objects: 100% (31/31), 1.81 MiB | 20.13 MiB/s, done.\n",
            "Resolving deltas: 100% (5/5), done.\n"
          ]
        }
      ],
      "source": [
        "!git clone https://github.com/aravindakrishnanl/educhat-recommender"
      ]
    },
    {
      "cell_type": "code",
      "execution_count": null,
      "metadata": {
        "colab": {
          "base_uri": "https://localhost:8080/"
        },
        "id": "rfNw22OkNJ6P",
        "outputId": "b02bbde7-b204-46c1-bdf7-917225caa910"
      },
      "outputs": [
        {
          "name": "stdout",
          "output_type": "stream",
          "text": [
            "Requirement already satisfied: pandas in /usr/local/lib/python3.12/dist-packages (2.2.2)\n",
            "Requirement already satisfied: numpy in /usr/local/lib/python3.12/dist-packages (2.0.2)\n",
            "Requirement already satisfied: scikit-learn in /usr/local/lib/python3.12/dist-packages (1.6.1)\n",
            "Requirement already satisfied: sentence-transformers in /usr/local/lib/python3.12/dist-packages (5.1.2)\n",
            "Collecting faiss-cpu\n",
            "  Downloading faiss_cpu-1.12.0-cp312-cp312-manylinux_2_27_x86_64.manylinux_2_28_x86_64.whl.metadata (5.1 kB)\n",
            "Requirement already satisfied: joblib in /usr/local/lib/python3.12/dist-packages (1.5.2)\n",
            "Requirement already satisfied: torch in /usr/local/lib/python3.12/dist-packages (2.8.0+cu126)\n",
            "Requirement already satisfied: python-dateutil>=2.8.2 in /usr/local/lib/python3.12/dist-packages (from pandas) (2.9.0.post0)\n",
            "Requirement already satisfied: pytz>=2020.1 in /usr/local/lib/python3.12/dist-packages (from pandas) (2025.2)\n",
            "Requirement already satisfied: tzdata>=2022.7 in /usr/local/lib/python3.12/dist-packages (from pandas) (2025.2)\n",
            "Requirement already satisfied: scipy>=1.6.0 in /usr/local/lib/python3.12/dist-packages (from scikit-learn) (1.16.3)\n",
            "Requirement already satisfied: threadpoolctl>=3.1.0 in /usr/local/lib/python3.12/dist-packages (from scikit-learn) (3.6.0)\n",
            "Requirement already satisfied: transformers<5.0.0,>=4.41.0 in /usr/local/lib/python3.12/dist-packages (from sentence-transformers) (4.57.1)\n",
            "Requirement already satisfied: tqdm in /usr/local/lib/python3.12/dist-packages (from sentence-transformers) (4.67.1)\n",
            "Requirement already satisfied: huggingface-hub>=0.20.0 in /usr/local/lib/python3.12/dist-packages (from sentence-transformers) (0.36.0)\n",
            "Requirement already satisfied: Pillow in /usr/local/lib/python3.12/dist-packages (from sentence-transformers) (11.3.0)\n",
            "Requirement already satisfied: typing_extensions>=4.5.0 in /usr/local/lib/python3.12/dist-packages (from sentence-transformers) (4.15.0)\n",
            "Requirement already satisfied: packaging in /usr/local/lib/python3.12/dist-packages (from faiss-cpu) (25.0)\n",
            "Requirement already satisfied: filelock in /usr/local/lib/python3.12/dist-packages (from torch) (3.20.0)\n",
            "Requirement already satisfied: setuptools in /usr/local/lib/python3.12/dist-packages (from torch) (75.2.0)\n",
            "Requirement already satisfied: sympy>=1.13.3 in /usr/local/lib/python3.12/dist-packages (from torch) (1.13.3)\n",
            "Requirement already satisfied: networkx in /usr/local/lib/python3.12/dist-packages (from torch) (3.5)\n",
            "Requirement already satisfied: jinja2 in /usr/local/lib/python3.12/dist-packages (from torch) (3.1.6)\n",
            "Requirement already satisfied: fsspec in /usr/local/lib/python3.12/dist-packages (from torch) (2025.3.0)\n",
            "Requirement already satisfied: nvidia-cuda-nvrtc-cu12==12.6.77 in /usr/local/lib/python3.12/dist-packages (from torch) (12.6.77)\n",
            "Requirement already satisfied: nvidia-cuda-runtime-cu12==12.6.77 in /usr/local/lib/python3.12/dist-packages (from torch) (12.6.77)\n",
            "Requirement already satisfied: nvidia-cuda-cupti-cu12==12.6.80 in /usr/local/lib/python3.12/dist-packages (from torch) (12.6.80)\n",
            "Requirement already satisfied: nvidia-cudnn-cu12==9.10.2.21 in /usr/local/lib/python3.12/dist-packages (from torch) (9.10.2.21)\n",
            "Requirement already satisfied: nvidia-cublas-cu12==12.6.4.1 in /usr/local/lib/python3.12/dist-packages (from torch) (12.6.4.1)\n",
            "Requirement already satisfied: nvidia-cufft-cu12==11.3.0.4 in /usr/local/lib/python3.12/dist-packages (from torch) (11.3.0.4)\n",
            "Requirement already satisfied: nvidia-curand-cu12==10.3.7.77 in /usr/local/lib/python3.12/dist-packages (from torch) (10.3.7.77)\n",
            "Requirement already satisfied: nvidia-cusolver-cu12==11.7.1.2 in /usr/local/lib/python3.12/dist-packages (from torch) (11.7.1.2)\n",
            "Requirement already satisfied: nvidia-cusparse-cu12==12.5.4.2 in /usr/local/lib/python3.12/dist-packages (from torch) (12.5.4.2)\n",
            "Requirement already satisfied: nvidia-cusparselt-cu12==0.7.1 in /usr/local/lib/python3.12/dist-packages (from torch) (0.7.1)\n",
            "Requirement already satisfied: nvidia-nccl-cu12==2.27.3 in /usr/local/lib/python3.12/dist-packages (from torch) (2.27.3)\n",
            "Requirement already satisfied: nvidia-nvtx-cu12==12.6.77 in /usr/local/lib/python3.12/dist-packages (from torch) (12.6.77)\n",
            "Requirement already satisfied: nvidia-nvjitlink-cu12==12.6.85 in /usr/local/lib/python3.12/dist-packages (from torch) (12.6.85)\n",
            "Requirement already satisfied: nvidia-cufile-cu12==1.11.1.6 in /usr/local/lib/python3.12/dist-packages (from torch) (1.11.1.6)\n",
            "Requirement already satisfied: triton==3.4.0 in /usr/local/lib/python3.12/dist-packages (from torch) (3.4.0)\n",
            "Requirement already satisfied: pyyaml>=5.1 in /usr/local/lib/python3.12/dist-packages (from huggingface-hub>=0.20.0->sentence-transformers) (6.0.3)\n",
            "Requirement already satisfied: requests in /usr/local/lib/python3.12/dist-packages (from huggingface-hub>=0.20.0->sentence-transformers) (2.32.4)\n",
            "Requirement already satisfied: hf-xet<2.0.0,>=1.1.3 in /usr/local/lib/python3.12/dist-packages (from huggingface-hub>=0.20.0->sentence-transformers) (1.2.0)\n",
            "Requirement already satisfied: six>=1.5 in /usr/local/lib/python3.12/dist-packages (from python-dateutil>=2.8.2->pandas) (1.17.0)\n",
            "Requirement already satisfied: mpmath<1.4,>=1.1.0 in /usr/local/lib/python3.12/dist-packages (from sympy>=1.13.3->torch) (1.3.0)\n",
            "Requirement already satisfied: regex!=2019.12.17 in /usr/local/lib/python3.12/dist-packages (from transformers<5.0.0,>=4.41.0->sentence-transformers) (2024.11.6)\n",
            "Requirement already satisfied: tokenizers<=0.23.0,>=0.22.0 in /usr/local/lib/python3.12/dist-packages (from transformers<5.0.0,>=4.41.0->sentence-transformers) (0.22.1)\n",
            "Requirement already satisfied: safetensors>=0.4.3 in /usr/local/lib/python3.12/dist-packages (from transformers<5.0.0,>=4.41.0->sentence-transformers) (0.6.2)\n",
            "Requirement already satisfied: MarkupSafe>=2.0 in /usr/local/lib/python3.12/dist-packages (from jinja2->torch) (3.0.3)\n",
            "Requirement already satisfied: charset_normalizer<4,>=2 in /usr/local/lib/python3.12/dist-packages (from requests->huggingface-hub>=0.20.0->sentence-transformers) (3.4.4)\n",
            "Requirement already satisfied: idna<4,>=2.5 in /usr/local/lib/python3.12/dist-packages (from requests->huggingface-hub>=0.20.0->sentence-transformers) (3.11)\n",
            "Requirement already satisfied: urllib3<3,>=1.21.1 in /usr/local/lib/python3.12/dist-packages (from requests->huggingface-hub>=0.20.0->sentence-transformers) (2.5.0)\n",
            "Requirement already satisfied: certifi>=2017.4.17 in /usr/local/lib/python3.12/dist-packages (from requests->huggingface-hub>=0.20.0->sentence-transformers) (2025.10.5)\n",
            "Downloading faiss_cpu-1.12.0-cp312-cp312-manylinux_2_27_x86_64.manylinux_2_28_x86_64.whl (31.4 MB)\n",
            "\u001b[2K   \u001b[90m━━━━━━━━━━━━━━━━━━━━━━━━━━━━━━━━━━━━━━━━\u001b[0m \u001b[32m31.4/31.4 MB\u001b[0m \u001b[31m59.7 MB/s\u001b[0m eta \u001b[36m0:00:00\u001b[0m\n",
            "\u001b[?25hInstalling collected packages: faiss-cpu\n",
            "Successfully installed faiss-cpu-1.12.0\n"
          ]
        }
      ],
      "source": [
        "!pip install pandas numpy scikit-learn sentence-transformers faiss-cpu joblib torch"
      ]
    },
    {
      "cell_type": "code",
      "execution_count": null,
      "metadata": {
        "id": "LDkru70COJio"
      },
      "outputs": [],
      "source": [
        "\n",
        "import pandas as pd, numpy as np, faiss, joblib, torch, torch.nn as nn\n",
        "from sentence_transformers import SentenceTransformer\n",
        "from sklearn.linear_model import LogisticRegression\n",
        "from sklearn.preprocessing import LabelEncoder"
      ]
    },
    {
      "cell_type": "code",
      "execution_count": null,
      "metadata": {
        "id": "SSR2nfzGOntY"
      },
      "outputs": [],
      "source": [
        "users = pd.read_csv(\"/content/educhat-recommender/database/users.csv\")\n",
        "profiles = pd.read_csv(\"//content/educhat-recommender/database/students_profile.csv\")\n",
        "content = pd.read_csv(\"/content/educhat-recommender/database/content_items.csv\")\n",
        "interactions = pd.read_csv(\"/content/educhat-recommender/database/interactions.csv\")\n",
        "assess = pd.read_csv(\"/content/educhat-recommender/database/assessments.csv\")"
      ]
    },
    {
      "cell_type": "code",
      "execution_count": null,
      "metadata": {
        "colab": {
          "base_uri": "https://localhost:8080/",
          "height": 525,
          "referenced_widgets": [
            "08e0baa26e864b47901c50103a82a85d",
            "96530455d3f94b7f9000b08aacfbbbec",
            "e35c016fe18f422da770b38ac50bf037",
            "3c802c5d151f48418bdaa1891c06f9cf",
            "1de5bd1a93b04d09a09c98c04ed12610",
            "947b216f862348c4bd6b26a3a5f70495",
            "88d19b4835ac4a30a397b50467ed02f2",
            "0620ba2c95e844939b1bc311b6c4afe8",
            "dcf20820d9cf483b8e0683c6de1dcab5",
            "107e022e2847496c83463221989c835f",
            "de0f970c72c44357800874a22ccc5a97",
            "f106a81395a945be8107e00c4d546a8b",
            "3cdde9ac5a51444fb35c75107f1e774a",
            "fb98a80323c74df68ab506616246c224",
            "5969a5f00bb44f838b7b1d54420d44ae",
            "ed12587f482b470583a0a6245c753dcb",
            "fdcb3c8e1fea48558aba065a28109ac6",
            "1eb7da20f87c45c9ad32365c68563c71",
            "61a9f593d7aa4e4499c99f1595f35c04",
            "a95a63968603449e94d403ec8c3739de",
            "cec4c37b06f34320bca33e231ccad906",
            "6c6509ec09524d8f864d3eb1a7e05100",
            "efb5b064b4984620b076302dd613a6e2",
            "c14901cad68d4ce6af8ee876ccfd61f2",
            "3ec9c7db69874ac9ad4898b3f8b4da1a",
            "0193cb615d9245dc87cfabfd4471f5d1",
            "30f019dfbd8f45a98cfa2d07c8275da0",
            "57d18f21a53f404296f0881c856aae21",
            "25dcd78383214f11b93487faf9f754a5",
            "39059d1290a345b8ac2da2e338fa45e7",
            "2881f0631fac4435ae9b7a0686f3ae7b",
            "7b729a378cfb4cfaa1f36a4bea23aaf5",
            "147d1b54d3b1442d8c1e7313f090b62a",
            "194655211c38401e9449d19f124070db",
            "24c41916c54841c89669e24dd0bc1959",
            "caad918ecede4ea48aa0799b67442bc1",
            "2ab7d452c6544311971aeaf9058c86b8",
            "9232846b29da4643bf40ddd186131787",
            "7ea5a176aa814e6fac97b859442f6c30",
            "4a3032df1aeb4b4d872ece81f52fbacf",
            "31ae381f46ff46db81cce87302ede0af",
            "b533276db0f84b5e99cddd4582463bc0",
            "993d1a230e914114885e56a4b8a4c0a3",
            "dfb36850148d44079433be9c78009cea",
            "8bf05d01c7e84a06b9ec3f4475041fae",
            "4b532b1590ae4d98b5588b8a291f9723",
            "9955ac5c3bc3422bbddafca8df9b49ba",
            "b1238400f74048c09987306a2479b00f",
            "d78b5e24c0454eab9af2f3a2bdd32ac0",
            "501e68ce3f734449b92549376b892e3f",
            "c279990e75c24cb6984ab56dd9143ee5",
            "eae9b625e960423aa0f49bef9fb85b0e",
            "eb9630255af9450ca1c4dbe38bdefded",
            "3bf99b0635eb4b5085d9727cf5ece5a5",
            "3219beaf69a04aa5a1d456a22ed6cfe8",
            "343a23ec21644512bc9b7cb67d18b12c",
            "2965cc2cd88645b9936183c5a0520ca9",
            "2a8ed249112d4f92a6d2fbce88e63a6e",
            "cf590dc3f5b94e5e892331948073cb7c",
            "69625e9c4167446d9963221ee730db5b",
            "70422a2ff8174d64b4e7f34089b08402",
            "e18a6750bcbf45caa9f89c3288504abd",
            "508918eaebc540f38ffeeb668321aa39",
            "bb6c4899efd74b55a639e90f2d8242f8",
            "5ea603b2d09c43b59d7efc08261858fa",
            "e310bb2d6b2147d69d95e39893335a88",
            "1e12983aa7004e9b90d9121325926099",
            "82d710fb309344f99e7888c6ce6a362b",
            "661bc763a05e4e8eaacb46ce524ecb21",
            "62665e1b7e404124ba5a68331bb48ed7",
            "d9695ad2dc0949a1b4da740b2ecc7437",
            "75f5b4419c484672b88d55ecb62bcba2",
            "7b99d8497eca402093acba78653d76ac",
            "b9c8393aff1341ad909e52299df24dee",
            "945fa9cb5043464dab72f641c1c4d013",
            "b15e8ef028f146bd8fa64e3f501883c9",
            "2d1d9c7efe8246ff9ae496e0fc4d53e7",
            "494b5bdbd16f42e0bf90e1f83bcf9d33",
            "294ee459cc0648c6af80436f0a6419ed",
            "1980fbc180a641fa80215b188c96d296",
            "0db57fdf386e467e8d74f034aba69e0f",
            "a2fdce03d07b4e6b89cc434fa166b6bb",
            "5fb83d37a5ae44b48e347332d69a0146",
            "cdd5563352de4f2fac1c2e67ffa77a78",
            "e9d8ee53de774f5b967a12b09039d2e4",
            "0484496665584f2b9bb97d4d6610c1b0",
            "0a17586ca07e43858ecaac8b028f829d",
            "00d36329cfc44b0aa4ebff4cda3ba167",
            "3df0cd9be0bf4eec894e0ffe0eb4123c",
            "1031795ab5fc4b0ea7d6fd9265ac8bb8",
            "cb63a5d7f35d4fd8b97113c0e0b1c68d",
            "c051c70c30eb4f7ca9f007acf7324a7c",
            "5f3f06dbad4c4396a973f8fb7c884ddf",
            "c5a98de7622e4cd588a3900bdb63774d",
            "8699793261ae4353a14e2d5e816d4694",
            "fbf121a01a4a42c9b58f2c4a26ae2021",
            "d3aafc2c2d714d6eab412fa5eb07c0ac",
            "5b8a344260a74b3cab754122bd151eaa",
            "c0818e0f4b6b43ac98ce0fe7ec325540",
            "ae9f7fd26bed469caa17f6db387359a6",
            "a9e22abf132f49c39273064d5ae08501",
            "8f036248420f4c0ab631847993da5af3",
            "4c200521453848df8814aeba9fad8594",
            "3fea3a0c22744d9195e36ba260e403ab",
            "59591330621f449f9049a66498dd57c4",
            "7c480c54412f4311a6cdaa5e4c893faa",
            "d24704fafaa644ca881407e330f98b9d",
            "e86c39f3b978451f8dd6ac3002dea6e8",
            "b7495d517d5647a3a3f2fd9a03335e9e",
            "ffaeb775a5dd47e2997baf1bb5719a2e",
            "4a4c95c1334343ab94be5a016a6d2714",
            "e5a3ae65a7dd4926a1d3d9a88cce5b1c",
            "0737dff4fc6d4e9f8f4dbe273401dc54",
            "19b2ec4f32ad40d891f68352e1ca6e1e",
            "53ad890550fd46b88d65d73e9ddec047",
            "f9338179addd40bab827ba9712345b30",
            "d6d1db2ff3e34abea91ecdf68d8a0d08",
            "7834a2d4d69d4ae4b94869a32af941a4",
            "f76f8a66610a429ea1e9aca78589074f",
            "074dc87c28f84743b21043bf28acda71",
            "1dbb49ccd0fc406e9fc25b0f9043367a",
            "86598be38e194aacaee416459ef29883",
            "4f54c938901f45af8987655a098d4b20",
            "4b8aa20570874175b11a58ca16ffcf34",
            "1fd4955aa48948e0b21f4707513307f7",
            "4b5f1ad6044e455eb5f14b4724cddd63",
            "c006b97664434216a1af87d72aab90f3",
            "54e02749fef1475d9fe3ad929dac8b67",
            "7269be3f042e49ffa38c06fcd2e585a6",
            "bf12fcfcfb744722a1c90ef4c495fc2c",
            "ed9e5cb6916c46d1b57bbd2682fd3e9e",
            "967e9c51dcb74689b475c8165b0c811c"
          ]
        },
        "id": "ikfdqIahPTPa",
        "outputId": "39ad07f7-f7ba-43e4-8403-ac1211135893"
      },
      "outputs": [
        {
          "name": "stderr",
          "output_type": "stream",
          "text": [
            "/usr/local/lib/python3.12/dist-packages/huggingface_hub/utils/_auth.py:94: UserWarning: \n",
            "The secret `HF_TOKEN` does not exist in your Colab secrets.\n",
            "To authenticate with the Hugging Face Hub, create a token in your settings tab (https://huggingface.co/settings/tokens), set it as secret in your Google Colab and restart your session.\n",
            "You will be able to reuse this secret in all of your notebooks.\n",
            "Please note that authentication is recommended but still optional to access public models or datasets.\n",
            "  warnings.warn(\n"
          ]
        },
        {
          "data": {
            "application/vnd.jupyter.widget-view+json": {
              "model_id": "08e0baa26e864b47901c50103a82a85d",
              "version_major": 2,
              "version_minor": 0
            },
            "text/plain": [
              "modules.json:   0%|          | 0.00/349 [00:00<?, ?B/s]"
            ]
          },
          "metadata": {},
          "output_type": "display_data"
        },
        {
          "data": {
            "application/vnd.jupyter.widget-view+json": {
              "model_id": "f106a81395a945be8107e00c4d546a8b",
              "version_major": 2,
              "version_minor": 0
            },
            "text/plain": [
              "config_sentence_transformers.json:   0%|          | 0.00/116 [00:00<?, ?B/s]"
            ]
          },
          "metadata": {},
          "output_type": "display_data"
        },
        {
          "data": {
            "application/vnd.jupyter.widget-view+json": {
              "model_id": "efb5b064b4984620b076302dd613a6e2",
              "version_major": 2,
              "version_minor": 0
            },
            "text/plain": [
              "README.md: 0.00B [00:00, ?B/s]"
            ]
          },
          "metadata": {},
          "output_type": "display_data"
        },
        {
          "data": {
            "application/vnd.jupyter.widget-view+json": {
              "model_id": "194655211c38401e9449d19f124070db",
              "version_major": 2,
              "version_minor": 0
            },
            "text/plain": [
              "sentence_bert_config.json:   0%|          | 0.00/53.0 [00:00<?, ?B/s]"
            ]
          },
          "metadata": {},
          "output_type": "display_data"
        },
        {
          "data": {
            "application/vnd.jupyter.widget-view+json": {
              "model_id": "8bf05d01c7e84a06b9ec3f4475041fae",
              "version_major": 2,
              "version_minor": 0
            },
            "text/plain": [
              "config.json:   0%|          | 0.00/612 [00:00<?, ?B/s]"
            ]
          },
          "metadata": {},
          "output_type": "display_data"
        },
        {
          "data": {
            "application/vnd.jupyter.widget-view+json": {
              "model_id": "343a23ec21644512bc9b7cb67d18b12c",
              "version_major": 2,
              "version_minor": 0
            },
            "text/plain": [
              "model.safetensors:   0%|          | 0.00/90.9M [00:00<?, ?B/s]"
            ]
          },
          "metadata": {},
          "output_type": "display_data"
        },
        {
          "data": {
            "application/vnd.jupyter.widget-view+json": {
              "model_id": "1e12983aa7004e9b90d9121325926099",
              "version_major": 2,
              "version_minor": 0
            },
            "text/plain": [
              "tokenizer_config.json:   0%|          | 0.00/350 [00:00<?, ?B/s]"
            ]
          },
          "metadata": {},
          "output_type": "display_data"
        },
        {
          "data": {
            "application/vnd.jupyter.widget-view+json": {
              "model_id": "494b5bdbd16f42e0bf90e1f83bcf9d33",
              "version_major": 2,
              "version_minor": 0
            },
            "text/plain": [
              "vocab.txt: 0.00B [00:00, ?B/s]"
            ]
          },
          "metadata": {},
          "output_type": "display_data"
        },
        {
          "data": {
            "application/vnd.jupyter.widget-view+json": {
              "model_id": "3df0cd9be0bf4eec894e0ffe0eb4123c",
              "version_major": 2,
              "version_minor": 0
            },
            "text/plain": [
              "tokenizer.json: 0.00B [00:00, ?B/s]"
            ]
          },
          "metadata": {},
          "output_type": "display_data"
        },
        {
          "data": {
            "application/vnd.jupyter.widget-view+json": {
              "model_id": "ae9f7fd26bed469caa17f6db387359a6",
              "version_major": 2,
              "version_minor": 0
            },
            "text/plain": [
              "special_tokens_map.json:   0%|          | 0.00/112 [00:00<?, ?B/s]"
            ]
          },
          "metadata": {},
          "output_type": "display_data"
        },
        {
          "data": {
            "application/vnd.jupyter.widget-view+json": {
              "model_id": "4a4c95c1334343ab94be5a016a6d2714",
              "version_major": 2,
              "version_minor": 0
            },
            "text/plain": [
              "config.json:   0%|          | 0.00/190 [00:00<?, ?B/s]"
            ]
          },
          "metadata": {},
          "output_type": "display_data"
        },
        {
          "data": {
            "application/vnd.jupyter.widget-view+json": {
              "model_id": "86598be38e194aacaee416459ef29883",
              "version_major": 2,
              "version_minor": 0
            },
            "text/plain": [
              "Batches:   0%|          | 0/16 [00:00<?, ?it/s]"
            ]
          },
          "metadata": {},
          "output_type": "display_data"
        }
      ],
      "source": [
        "embed_model = SentenceTransformer(\"all-MiniLM-L6-v2\")\n",
        "content_text = (\n",
        "    content[\"title\"].fillna(\"\") + \" \" +\n",
        "    content[\"skills_tags\"].fillna(\"\").astype(str)\n",
        ")\n",
        "content_vecs = embed_model.encode(content_text, show_progress_bar=True)\n",
        "faiss.normalize_L2(content_vecs)"
      ]
    },
    {
      "cell_type": "code",
      "execution_count": null,
      "metadata": {
        "colab": {
          "base_uri": "https://localhost:8080/"
        },
        "id": "wKnhMDhEPYKX",
        "outputId": "351e3750-a39d-4a16-f3e9-4c11183672af"
      },
      "outputs": [
        {
          "data": {
            "text/plain": [
              "['/content/artifacts_sentence_encoder.pkl']"
            ]
          },
          "execution_count": 6,
          "metadata": {},
          "output_type": "execute_result"
        }
      ],
      "source": [
        "index = faiss.IndexFlatIP(content_vecs.shape[1])\n",
        "index.add(content_vecs.astype(\"float32\"))\n",
        "faiss.write_index(index, \"/content/artifacts_content_index.faiss\")\n",
        "\n",
        "content[\"embedding_vector\"] = content_vecs.tolist()\n",
        "content.to_pickle(\"/content/artifacts_content.pkl\")\n",
        "joblib.dump(embed_model, \"/content/artifacts_sentence_encoder.pkl\")"
      ]
    },
    {
      "cell_type": "code",
      "execution_count": null,
      "metadata": {
        "id": "H-_ajP10Prbl"
      },
      "outputs": [],
      "source": [
        "user_perf = interactions.groupby(\"user_id\")[\"correct\"].mean().reset_index()\n",
        "users = users.merge(user_perf, left_on=\"id\", right_on=\"user_id\", how=\"left\").fillna(0)"
      ]
    },
    {
      "cell_type": "code",
      "execution_count": null,
      "metadata": {
        "colab": {
          "base_uri": "https://localhost:8080/"
        },
        "id": "9NccdA2CPyy_",
        "outputId": "dc631455-520c-48c5-ec6a-28cbc1bbd397"
      },
      "outputs": [
        {
          "data": {
            "text/plain": [
              "['/content/artifacts_labelencoder.joblib']"
            ]
          },
          "execution_count": 8,
          "metadata": {},
          "output_type": "execute_result"
        }
      ],
      "source": [
        "le_grade = LabelEncoder().fit(users[\"grade\"].astype(str))\n",
        "X = np.vstack([\n",
        "    le_grade.transform(users[\"grade\"].astype(str)),\n",
        "    users[\"age\"],\n",
        "    users[\"correct\"]\n",
        "]).T\n",
        "y = (users[\"correct\"] > 0.5).astype(int)\n",
        "\n",
        "ranker = LogisticRegression(max_iter=500).fit(X, y)\n",
        "joblib.dump(ranker, \"/content/artifacts_ranker.joblib\")\n",
        "joblib.dump(le_grade, \"/content/artifacts_labelencoder.joblib\")"
      ]
    },
    {
      "cell_type": "code",
      "execution_count": null,
      "metadata": {
        "id": "Z0lyU0oqP2kX"
      },
      "outputs": [],
      "source": [
        "class TinyKnowledge(nn.Module):\n",
        "    def __init__(self, in_dim=64, hidden=32):\n",
        "        super().__init__()\n",
        "        self.fc = nn.Sequential(nn.Linear(in_dim, hidden),\n",
        "                                nn.ReLU(),\n",
        "                                nn.Linear(hidden, 1),\n",
        "                                nn.Sigmoid())\n",
        "    def forward(self, x): return self.fc(x)\n",
        "\n",
        "kn_model = TinyKnowledge()\n",
        "torch.save(kn_model.state_dict(), \"/content/artifacts_tinyknowledge.pt\")"
      ]
    },
    {
      "cell_type": "code",
      "execution_count": null,
      "metadata": {
        "colab": {
          "base_uri": "https://localhost:8080/"
        },
        "id": "t4MzaWsiP5wV",
        "outputId": "411f7e10-7b12-466f-b181-b2bb84c6d527"
      },
      "outputs": [
        {
          "name": "stdout",
          "output_type": "stream",
          "text": [
            "  adding: content/artifacts/ (stored 0%)\n",
            "  adding: content/artifacts/artifacts_content_index.faiss (deflated 32%)\n",
            "  adding: content/artifacts/artifacts_labelencoder.joblib (deflated 35%)\n",
            "  adding: content/artifacts/artifacts_tinyknowledge.pt (deflated 22%)\n",
            "  adding: content/artifacts/artifacts_content.pkl (deflated 56%)\n",
            "  adding: content/artifacts/artifacts_sentence_encoder.pkl (deflated 9%)\n",
            "  adding: content/artifacts/artifacts_ranker.joblib (deflated 36%)\n"
          ]
        }
      ],
      "source": [
        "!mkdir -p /content/artifacts\n",
        "!mv /content/artifacts_* /content/artifacts/\n",
        "!zip -r /content/trained_models.zip /content/artifacts"
      ]
    },
    {
      "cell_type": "code",
      "execution_count": null,
      "metadata": {
        "id": "sd5wp5NmP9uO"
      },
      "outputs": [],
      "source": [
        "import joblib, faiss, torch\n",
        "from sentence_transformers import SentenceTransformer\n",
        "import numpy as np, pandas as pd"
      ]
    },
    {
      "cell_type": "code",
      "execution_count": null,
      "metadata": {
        "id": "f4IcAJlURCD_"
      },
      "outputs": [],
      "source": [
        "embed_model = joblib.load(\"/content/artifacts/artifacts_sentence_encoder.pkl\")\n",
        "ranker = joblib.load(\"/content/artifacts/artifacts_ranker.joblib\")\n",
        "le_grade = joblib.load(\"/content/artifacts/artifacts_labelencoder.joblib\")\n",
        "content = pd.read_pickle(\"/content/artifacts/artifacts_content.pkl\")\n",
        "index = faiss.read_index(\"/content/artifacts/artifacts_content_index.faiss\")"
      ]
    },
    {
      "cell_type": "code",
      "execution_count": null,
      "metadata": {
        "id": "GLX-AiOjTOzf"
      },
      "outputs": [],
      "source": [
        "sample_input = {\n",
        "    \"grade\": 10,\n",
        "    \"age\": 15,\n",
        "    \"performance_score\": 0.72,  # average learning accuracy\n",
        "    \"career_goal\": \"IIT aspirant (Engineering Entrance)\",\n",
        "    \"preferred_subjects\": [\"Mathematics\", \"Physics\",\"Chemistry\"],\n",
        "    \"learning_style\": \"visual\",  # or \"hands-on\", \"reading\"\n",
        "}\n"
      ]
    },
    {
      "cell_type": "code",
      "execution_count": null,
      "metadata": {
        "id": "M_5qOxm7TSq9"
      },
      "outputs": [],
      "source": [
        "query_text = f\"Grade {sample_input['grade']} {sample_input['career_goal']} focusing on {', '.join(sample_input['preferred_subjects'])} using {sample_input['learning_style']} learning\"\n",
        "query_vec = embed_model.encode([query_text])\n",
        "faiss.normalize_L2(query_vec)"
      ]
    },
    {
      "cell_type": "code",
      "execution_count": null,
      "metadata": {
        "colab": {
          "base_uri": "https://localhost:8080/",
          "height": 694
        },
        "id": "jDEAfocKTUvX",
        "outputId": "57128bfc-ea56-4d2e-b519-ba44f4d90345"
      },
      "outputs": [
        {
          "name": "stdout",
          "output_type": "stream",
          "text": [
            "🎯 Top Recommendations for the User:\n"
          ]
        },
        {
          "data": {
            "application/vnd.google.colaboratory.intrinsic+json": {
              "summary": "{\n  \"name\": \"recommendations\",\n  \"rows\": 20,\n  \"fields\": [\n    {\n      \"column\": \"title\",\n      \"properties\": {\n        \"dtype\": \"category\",\n        \"num_unique_values\": 2,\n        \"samples\": [\n          \"Chemistry - physical Level 1\",\n          \"Chemistry - physical Level 2\"\n        ],\n        \"semantic_type\": \"\",\n        \"description\": \"\"\n      }\n    },\n    {\n      \"column\": \"type\",\n      \"properties\": {\n        \"dtype\": \"category\",\n        \"num_unique_values\": 3,\n        \"samples\": [\n          \"video\",\n          \"exercise\"\n        ],\n        \"semantic_type\": \"\",\n        \"description\": \"\"\n      }\n    },\n    {\n      \"column\": \"skills_tags\",\n      \"properties\": {\n        \"dtype\": \"category\",\n        \"num_unique_values\": 1,\n        \"samples\": [\n          \"['physical']\"\n        ],\n        \"semantic_type\": \"\",\n        \"description\": \"\"\n      }\n    },\n    {\n      \"column\": \"difficulty\",\n      \"properties\": {\n        \"dtype\": \"number\",\n        \"std\": 0,\n        \"min\": 1,\n        \"max\": 2,\n        \"num_unique_values\": 2,\n        \"samples\": [\n          1\n        ],\n        \"semantic_type\": \"\",\n        \"description\": \"\"\n      }\n    },\n    {\n      \"column\": \"url\",\n      \"properties\": {\n        \"dtype\": \"category\",\n        \"num_unique_values\": 2,\n        \"samples\": [\n          \"https://educhat.example.com/chemistry/physical_L1\"\n        ],\n        \"semantic_type\": \"\",\n        \"description\": \"\"\n      }\n    }\n  ]\n}",
              "type": "dataframe",
              "variable_name": "recommendations"
            },
            "text/html": [
              "\n",
              "  <div id=\"df-ab7f364a-f752-48f6-999a-7fac77b0d714\" class=\"colab-df-container\">\n",
              "    <div>\n",
              "<style scoped>\n",
              "    .dataframe tbody tr th:only-of-type {\n",
              "        vertical-align: middle;\n",
              "    }\n",
              "\n",
              "    .dataframe tbody tr th {\n",
              "        vertical-align: top;\n",
              "    }\n",
              "\n",
              "    .dataframe thead th {\n",
              "        text-align: right;\n",
              "    }\n",
              "</style>\n",
              "<table border=\"1\" class=\"dataframe\">\n",
              "  <thead>\n",
              "    <tr style=\"text-align: right;\">\n",
              "      <th></th>\n",
              "      <th>title</th>\n",
              "      <th>type</th>\n",
              "      <th>skills_tags</th>\n",
              "      <th>difficulty</th>\n",
              "      <th>url</th>\n",
              "    </tr>\n",
              "  </thead>\n",
              "  <tbody>\n",
              "    <tr>\n",
              "      <th>0</th>\n",
              "      <td>Chemistry - physical Level 2</td>\n",
              "      <td>video</td>\n",
              "      <td>['physical']</td>\n",
              "      <td>2</td>\n",
              "      <td>https://educhat.example.com/chemistry/physical_L2</td>\n",
              "    </tr>\n",
              "    <tr>\n",
              "      <th>1</th>\n",
              "      <td>Chemistry - physical Level 2</td>\n",
              "      <td>exercise</td>\n",
              "      <td>['physical']</td>\n",
              "      <td>2</td>\n",
              "      <td>https://educhat.example.com/chemistry/physical_L2</td>\n",
              "    </tr>\n",
              "    <tr>\n",
              "      <th>2</th>\n",
              "      <td>Chemistry - physical Level 2</td>\n",
              "      <td>article</td>\n",
              "      <td>['physical']</td>\n",
              "      <td>2</td>\n",
              "      <td>https://educhat.example.com/chemistry/physical_L2</td>\n",
              "    </tr>\n",
              "    <tr>\n",
              "      <th>3</th>\n",
              "      <td>Chemistry - physical Level 2</td>\n",
              "      <td>article</td>\n",
              "      <td>['physical']</td>\n",
              "      <td>2</td>\n",
              "      <td>https://educhat.example.com/chemistry/physical_L2</td>\n",
              "    </tr>\n",
              "    <tr>\n",
              "      <th>4</th>\n",
              "      <td>Chemistry - physical Level 2</td>\n",
              "      <td>article</td>\n",
              "      <td>['physical']</td>\n",
              "      <td>2</td>\n",
              "      <td>https://educhat.example.com/chemistry/physical_L2</td>\n",
              "    </tr>\n",
              "    <tr>\n",
              "      <th>5</th>\n",
              "      <td>Chemistry - physical Level 2</td>\n",
              "      <td>article</td>\n",
              "      <td>['physical']</td>\n",
              "      <td>2</td>\n",
              "      <td>https://educhat.example.com/chemistry/physical_L2</td>\n",
              "    </tr>\n",
              "    <tr>\n",
              "      <th>6</th>\n",
              "      <td>Chemistry - physical Level 2</td>\n",
              "      <td>video</td>\n",
              "      <td>['physical']</td>\n",
              "      <td>2</td>\n",
              "      <td>https://educhat.example.com/chemistry/physical_L2</td>\n",
              "    </tr>\n",
              "    <tr>\n",
              "      <th>7</th>\n",
              "      <td>Chemistry - physical Level 2</td>\n",
              "      <td>video</td>\n",
              "      <td>['physical']</td>\n",
              "      <td>2</td>\n",
              "      <td>https://educhat.example.com/chemistry/physical_L2</td>\n",
              "    </tr>\n",
              "    <tr>\n",
              "      <th>8</th>\n",
              "      <td>Chemistry - physical Level 2</td>\n",
              "      <td>article</td>\n",
              "      <td>['physical']</td>\n",
              "      <td>2</td>\n",
              "      <td>https://educhat.example.com/chemistry/physical_L2</td>\n",
              "    </tr>\n",
              "    <tr>\n",
              "      <th>9</th>\n",
              "      <td>Chemistry - physical Level 2</td>\n",
              "      <td>article</td>\n",
              "      <td>['physical']</td>\n",
              "      <td>2</td>\n",
              "      <td>https://educhat.example.com/chemistry/physical_L2</td>\n",
              "    </tr>\n",
              "    <tr>\n",
              "      <th>10</th>\n",
              "      <td>Chemistry - physical Level 2</td>\n",
              "      <td>video</td>\n",
              "      <td>['physical']</td>\n",
              "      <td>2</td>\n",
              "      <td>https://educhat.example.com/chemistry/physical_L2</td>\n",
              "    </tr>\n",
              "    <tr>\n",
              "      <th>11</th>\n",
              "      <td>Chemistry - physical Level 2</td>\n",
              "      <td>video</td>\n",
              "      <td>['physical']</td>\n",
              "      <td>2</td>\n",
              "      <td>https://educhat.example.com/chemistry/physical_L2</td>\n",
              "    </tr>\n",
              "    <tr>\n",
              "      <th>12</th>\n",
              "      <td>Chemistry - physical Level 2</td>\n",
              "      <td>article</td>\n",
              "      <td>['physical']</td>\n",
              "      <td>2</td>\n",
              "      <td>https://educhat.example.com/chemistry/physical_L2</td>\n",
              "    </tr>\n",
              "    <tr>\n",
              "      <th>13</th>\n",
              "      <td>Chemistry - physical Level 1</td>\n",
              "      <td>article</td>\n",
              "      <td>['physical']</td>\n",
              "      <td>1</td>\n",
              "      <td>https://educhat.example.com/chemistry/physical_L1</td>\n",
              "    </tr>\n",
              "    <tr>\n",
              "      <th>14</th>\n",
              "      <td>Chemistry - physical Level 1</td>\n",
              "      <td>exercise</td>\n",
              "      <td>['physical']</td>\n",
              "      <td>1</td>\n",
              "      <td>https://educhat.example.com/chemistry/physical_L1</td>\n",
              "    </tr>\n",
              "    <tr>\n",
              "      <th>15</th>\n",
              "      <td>Chemistry - physical Level 1</td>\n",
              "      <td>exercise</td>\n",
              "      <td>['physical']</td>\n",
              "      <td>1</td>\n",
              "      <td>https://educhat.example.com/chemistry/physical_L1</td>\n",
              "    </tr>\n",
              "    <tr>\n",
              "      <th>16</th>\n",
              "      <td>Chemistry - physical Level 1</td>\n",
              "      <td>article</td>\n",
              "      <td>['physical']</td>\n",
              "      <td>1</td>\n",
              "      <td>https://educhat.example.com/chemistry/physical_L1</td>\n",
              "    </tr>\n",
              "    <tr>\n",
              "      <th>17</th>\n",
              "      <td>Chemistry - physical Level 1</td>\n",
              "      <td>video</td>\n",
              "      <td>['physical']</td>\n",
              "      <td>1</td>\n",
              "      <td>https://educhat.example.com/chemistry/physical_L1</td>\n",
              "    </tr>\n",
              "    <tr>\n",
              "      <th>18</th>\n",
              "      <td>Chemistry - physical Level 1</td>\n",
              "      <td>video</td>\n",
              "      <td>['physical']</td>\n",
              "      <td>1</td>\n",
              "      <td>https://educhat.example.com/chemistry/physical_L1</td>\n",
              "    </tr>\n",
              "    <tr>\n",
              "      <th>19</th>\n",
              "      <td>Chemistry - physical Level 1</td>\n",
              "      <td>video</td>\n",
              "      <td>['physical']</td>\n",
              "      <td>1</td>\n",
              "      <td>https://educhat.example.com/chemistry/physical_L1</td>\n",
              "    </tr>\n",
              "  </tbody>\n",
              "</table>\n",
              "</div>\n",
              "    <div class=\"colab-df-buttons\">\n",
              "\n",
              "  <div class=\"colab-df-container\">\n",
              "    <button class=\"colab-df-convert\" onclick=\"convertToInteractive('df-ab7f364a-f752-48f6-999a-7fac77b0d714')\"\n",
              "            title=\"Convert this dataframe to an interactive table.\"\n",
              "            style=\"display:none;\">\n",
              "\n",
              "  <svg xmlns=\"http://www.w3.org/2000/svg\" height=\"24px\" viewBox=\"0 -960 960 960\">\n",
              "    <path d=\"M120-120v-720h720v720H120Zm60-500h600v-160H180v160Zm220 220h160v-160H400v160Zm0 220h160v-160H400v160ZM180-400h160v-160H180v160Zm440 0h160v-160H620v160ZM180-180h160v-160H180v160Zm440 0h160v-160H620v160Z\"/>\n",
              "  </svg>\n",
              "    </button>\n",
              "\n",
              "  <style>\n",
              "    .colab-df-container {\n",
              "      display:flex;\n",
              "      gap: 12px;\n",
              "    }\n",
              "\n",
              "    .colab-df-convert {\n",
              "      background-color: #E8F0FE;\n",
              "      border: none;\n",
              "      border-radius: 50%;\n",
              "      cursor: pointer;\n",
              "      display: none;\n",
              "      fill: #1967D2;\n",
              "      height: 32px;\n",
              "      padding: 0 0 0 0;\n",
              "      width: 32px;\n",
              "    }\n",
              "\n",
              "    .colab-df-convert:hover {\n",
              "      background-color: #E2EBFA;\n",
              "      box-shadow: 0px 1px 2px rgba(60, 64, 67, 0.3), 0px 1px 3px 1px rgba(60, 64, 67, 0.15);\n",
              "      fill: #174EA6;\n",
              "    }\n",
              "\n",
              "    .colab-df-buttons div {\n",
              "      margin-bottom: 4px;\n",
              "    }\n",
              "\n",
              "    [theme=dark] .colab-df-convert {\n",
              "      background-color: #3B4455;\n",
              "      fill: #D2E3FC;\n",
              "    }\n",
              "\n",
              "    [theme=dark] .colab-df-convert:hover {\n",
              "      background-color: #434B5C;\n",
              "      box-shadow: 0px 1px 3px 1px rgba(0, 0, 0, 0.15);\n",
              "      filter: drop-shadow(0px 1px 2px rgba(0, 0, 0, 0.3));\n",
              "      fill: #FFFFFF;\n",
              "    }\n",
              "  </style>\n",
              "\n",
              "    <script>\n",
              "      const buttonEl =\n",
              "        document.querySelector('#df-ab7f364a-f752-48f6-999a-7fac77b0d714 button.colab-df-convert');\n",
              "      buttonEl.style.display =\n",
              "        google.colab.kernel.accessAllowed ? 'block' : 'none';\n",
              "\n",
              "      async function convertToInteractive(key) {\n",
              "        const element = document.querySelector('#df-ab7f364a-f752-48f6-999a-7fac77b0d714');\n",
              "        const dataTable =\n",
              "          await google.colab.kernel.invokeFunction('convertToInteractive',\n",
              "                                                    [key], {});\n",
              "        if (!dataTable) return;\n",
              "\n",
              "        const docLinkHtml = 'Like what you see? Visit the ' +\n",
              "          '<a target=\"_blank\" href=https://colab.research.google.com/notebooks/data_table.ipynb>data table notebook</a>'\n",
              "          + ' to learn more about interactive tables.';\n",
              "        element.innerHTML = '';\n",
              "        dataTable['output_type'] = 'display_data';\n",
              "        await google.colab.output.renderOutput(dataTable, element);\n",
              "        const docLink = document.createElement('div');\n",
              "        docLink.innerHTML = docLinkHtml;\n",
              "        element.appendChild(docLink);\n",
              "      }\n",
              "    </script>\n",
              "  </div>\n",
              "\n",
              "\n",
              "    <div id=\"df-ba0b09a7-1f1e-4c63-8e26-589924e0285c\">\n",
              "      <button class=\"colab-df-quickchart\" onclick=\"quickchart('df-ba0b09a7-1f1e-4c63-8e26-589924e0285c')\"\n",
              "                title=\"Suggest charts\"\n",
              "                style=\"display:none;\">\n",
              "\n",
              "<svg xmlns=\"http://www.w3.org/2000/svg\" height=\"24px\"viewBox=\"0 0 24 24\"\n",
              "     width=\"24px\">\n",
              "    <g>\n",
              "        <path d=\"M19 3H5c-1.1 0-2 .9-2 2v14c0 1.1.9 2 2 2h14c1.1 0 2-.9 2-2V5c0-1.1-.9-2-2-2zM9 17H7v-7h2v7zm4 0h-2V7h2v10zm4 0h-2v-4h2v4z\"/>\n",
              "    </g>\n",
              "</svg>\n",
              "      </button>\n",
              "\n",
              "<style>\n",
              "  .colab-df-quickchart {\n",
              "      --bg-color: #E8F0FE;\n",
              "      --fill-color: #1967D2;\n",
              "      --hover-bg-color: #E2EBFA;\n",
              "      --hover-fill-color: #174EA6;\n",
              "      --disabled-fill-color: #AAA;\n",
              "      --disabled-bg-color: #DDD;\n",
              "  }\n",
              "\n",
              "  [theme=dark] .colab-df-quickchart {\n",
              "      --bg-color: #3B4455;\n",
              "      --fill-color: #D2E3FC;\n",
              "      --hover-bg-color: #434B5C;\n",
              "      --hover-fill-color: #FFFFFF;\n",
              "      --disabled-bg-color: #3B4455;\n",
              "      --disabled-fill-color: #666;\n",
              "  }\n",
              "\n",
              "  .colab-df-quickchart {\n",
              "    background-color: var(--bg-color);\n",
              "    border: none;\n",
              "    border-radius: 50%;\n",
              "    cursor: pointer;\n",
              "    display: none;\n",
              "    fill: var(--fill-color);\n",
              "    height: 32px;\n",
              "    padding: 0;\n",
              "    width: 32px;\n",
              "  }\n",
              "\n",
              "  .colab-df-quickchart:hover {\n",
              "    background-color: var(--hover-bg-color);\n",
              "    box-shadow: 0 1px 2px rgba(60, 64, 67, 0.3), 0 1px 3px 1px rgba(60, 64, 67, 0.15);\n",
              "    fill: var(--button-hover-fill-color);\n",
              "  }\n",
              "\n",
              "  .colab-df-quickchart-complete:disabled,\n",
              "  .colab-df-quickchart-complete:disabled:hover {\n",
              "    background-color: var(--disabled-bg-color);\n",
              "    fill: var(--disabled-fill-color);\n",
              "    box-shadow: none;\n",
              "  }\n",
              "\n",
              "  .colab-df-spinner {\n",
              "    border: 2px solid var(--fill-color);\n",
              "    border-color: transparent;\n",
              "    border-bottom-color: var(--fill-color);\n",
              "    animation:\n",
              "      spin 1s steps(1) infinite;\n",
              "  }\n",
              "\n",
              "  @keyframes spin {\n",
              "    0% {\n",
              "      border-color: transparent;\n",
              "      border-bottom-color: var(--fill-color);\n",
              "      border-left-color: var(--fill-color);\n",
              "    }\n",
              "    20% {\n",
              "      border-color: transparent;\n",
              "      border-left-color: var(--fill-color);\n",
              "      border-top-color: var(--fill-color);\n",
              "    }\n",
              "    30% {\n",
              "      border-color: transparent;\n",
              "      border-left-color: var(--fill-color);\n",
              "      border-top-color: var(--fill-color);\n",
              "      border-right-color: var(--fill-color);\n",
              "    }\n",
              "    40% {\n",
              "      border-color: transparent;\n",
              "      border-right-color: var(--fill-color);\n",
              "      border-top-color: var(--fill-color);\n",
              "    }\n",
              "    60% {\n",
              "      border-color: transparent;\n",
              "      border-right-color: var(--fill-color);\n",
              "    }\n",
              "    80% {\n",
              "      border-color: transparent;\n",
              "      border-right-color: var(--fill-color);\n",
              "      border-bottom-color: var(--fill-color);\n",
              "    }\n",
              "    90% {\n",
              "      border-color: transparent;\n",
              "      border-bottom-color: var(--fill-color);\n",
              "    }\n",
              "  }\n",
              "</style>\n",
              "\n",
              "      <script>\n",
              "        async function quickchart(key) {\n",
              "          const quickchartButtonEl =\n",
              "            document.querySelector('#' + key + ' button');\n",
              "          quickchartButtonEl.disabled = true;  // To prevent multiple clicks.\n",
              "          quickchartButtonEl.classList.add('colab-df-spinner');\n",
              "          try {\n",
              "            const charts = await google.colab.kernel.invokeFunction(\n",
              "                'suggestCharts', [key], {});\n",
              "          } catch (error) {\n",
              "            console.error('Error during call to suggestCharts:', error);\n",
              "          }\n",
              "          quickchartButtonEl.classList.remove('colab-df-spinner');\n",
              "          quickchartButtonEl.classList.add('colab-df-quickchart-complete');\n",
              "        }\n",
              "        (() => {\n",
              "          let quickchartButtonEl =\n",
              "            document.querySelector('#df-ba0b09a7-1f1e-4c63-8e26-589924e0285c button');\n",
              "          quickchartButtonEl.style.display =\n",
              "            google.colab.kernel.accessAllowed ? 'block' : 'none';\n",
              "        })();\n",
              "      </script>\n",
              "    </div>\n",
              "\n",
              "  <div id=\"id_51e4e5f9-bba7-4494-b677-9ce07f7200d3\">\n",
              "    <style>\n",
              "      .colab-df-generate {\n",
              "        background-color: #E8F0FE;\n",
              "        border: none;\n",
              "        border-radius: 50%;\n",
              "        cursor: pointer;\n",
              "        display: none;\n",
              "        fill: #1967D2;\n",
              "        height: 32px;\n",
              "        padding: 0 0 0 0;\n",
              "        width: 32px;\n",
              "      }\n",
              "\n",
              "      .colab-df-generate:hover {\n",
              "        background-color: #E2EBFA;\n",
              "        box-shadow: 0px 1px 2px rgba(60, 64, 67, 0.3), 0px 1px 3px 1px rgba(60, 64, 67, 0.15);\n",
              "        fill: #174EA6;\n",
              "      }\n",
              "\n",
              "      [theme=dark] .colab-df-generate {\n",
              "        background-color: #3B4455;\n",
              "        fill: #D2E3FC;\n",
              "      }\n",
              "\n",
              "      [theme=dark] .colab-df-generate:hover {\n",
              "        background-color: #434B5C;\n",
              "        box-shadow: 0px 1px 3px 1px rgba(0, 0, 0, 0.15);\n",
              "        filter: drop-shadow(0px 1px 2px rgba(0, 0, 0, 0.3));\n",
              "        fill: #FFFFFF;\n",
              "      }\n",
              "    </style>\n",
              "    <button class=\"colab-df-generate\" onclick=\"generateWithVariable('recommendations')\"\n",
              "            title=\"Generate code using this dataframe.\"\n",
              "            style=\"display:none;\">\n",
              "\n",
              "  <svg xmlns=\"http://www.w3.org/2000/svg\" height=\"24px\"viewBox=\"0 0 24 24\"\n",
              "       width=\"24px\">\n",
              "    <path d=\"M7,19H8.4L18.45,9,17,7.55,7,17.6ZM5,21V16.75L18.45,3.32a2,2,0,0,1,2.83,0l1.4,1.43a1.91,1.91,0,0,1,.58,1.4,1.91,1.91,0,0,1-.58,1.4L9.25,21ZM18.45,9,17,7.55Zm-12,3A5.31,5.31,0,0,0,4.9,8.1,5.31,5.31,0,0,0,1,6.5,5.31,5.31,0,0,0,4.9,4.9,5.31,5.31,0,0,0,6.5,1,5.31,5.31,0,0,0,8.1,4.9,5.31,5.31,0,0,0,12,6.5,5.46,5.46,0,0,0,6.5,12Z\"/>\n",
              "  </svg>\n",
              "    </button>\n",
              "    <script>\n",
              "      (() => {\n",
              "      const buttonEl =\n",
              "        document.querySelector('#id_51e4e5f9-bba7-4494-b677-9ce07f7200d3 button.colab-df-generate');\n",
              "      buttonEl.style.display =\n",
              "        google.colab.kernel.accessAllowed ? 'block' : 'none';\n",
              "\n",
              "      buttonEl.onclick = () => {\n",
              "        google.colab.notebook.generateWithVariable('recommendations');\n",
              "      }\n",
              "      })();\n",
              "    </script>\n",
              "  </div>\n",
              "\n",
              "    </div>\n",
              "  </div>\n"
            ],
            "text/plain": [
              "                           title      type   skills_tags  difficulty  \\\n",
              "0   Chemistry - physical Level 2     video  ['physical']           2   \n",
              "1   Chemistry - physical Level 2  exercise  ['physical']           2   \n",
              "2   Chemistry - physical Level 2   article  ['physical']           2   \n",
              "3   Chemistry - physical Level 2   article  ['physical']           2   \n",
              "4   Chemistry - physical Level 2   article  ['physical']           2   \n",
              "5   Chemistry - physical Level 2   article  ['physical']           2   \n",
              "6   Chemistry - physical Level 2     video  ['physical']           2   \n",
              "7   Chemistry - physical Level 2     video  ['physical']           2   \n",
              "8   Chemistry - physical Level 2   article  ['physical']           2   \n",
              "9   Chemistry - physical Level 2   article  ['physical']           2   \n",
              "10  Chemistry - physical Level 2     video  ['physical']           2   \n",
              "11  Chemistry - physical Level 2     video  ['physical']           2   \n",
              "12  Chemistry - physical Level 2   article  ['physical']           2   \n",
              "13  Chemistry - physical Level 1   article  ['physical']           1   \n",
              "14  Chemistry - physical Level 1  exercise  ['physical']           1   \n",
              "15  Chemistry - physical Level 1  exercise  ['physical']           1   \n",
              "16  Chemistry - physical Level 1   article  ['physical']           1   \n",
              "17  Chemistry - physical Level 1     video  ['physical']           1   \n",
              "18  Chemistry - physical Level 1     video  ['physical']           1   \n",
              "19  Chemistry - physical Level 1     video  ['physical']           1   \n",
              "\n",
              "                                                  url  \n",
              "0   https://educhat.example.com/chemistry/physical_L2  \n",
              "1   https://educhat.example.com/chemistry/physical_L2  \n",
              "2   https://educhat.example.com/chemistry/physical_L2  \n",
              "3   https://educhat.example.com/chemistry/physical_L2  \n",
              "4   https://educhat.example.com/chemistry/physical_L2  \n",
              "5   https://educhat.example.com/chemistry/physical_L2  \n",
              "6   https://educhat.example.com/chemistry/physical_L2  \n",
              "7   https://educhat.example.com/chemistry/physical_L2  \n",
              "8   https://educhat.example.com/chemistry/physical_L2  \n",
              "9   https://educhat.example.com/chemistry/physical_L2  \n",
              "10  https://educhat.example.com/chemistry/physical_L2  \n",
              "11  https://educhat.example.com/chemistry/physical_L2  \n",
              "12  https://educhat.example.com/chemistry/physical_L2  \n",
              "13  https://educhat.example.com/chemistry/physical_L1  \n",
              "14  https://educhat.example.com/chemistry/physical_L1  \n",
              "15  https://educhat.example.com/chemistry/physical_L1  \n",
              "16  https://educhat.example.com/chemistry/physical_L1  \n",
              "17  https://educhat.example.com/chemistry/physical_L1  \n",
              "18  https://educhat.example.com/chemistry/physical_L1  \n",
              "19  https://educhat.example.com/chemistry/physical_L1  "
            ]
          },
          "metadata": {},
          "output_type": "display_data"
        }
      ],
      "source": [
        "top_k = 20\n",
        "D, I = index.search(query_vec.astype(\"float32\"), top_k)\n",
        "\n",
        "recommendations = content.iloc[I[0]][[\"title\", \"type\", \"skills_tags\", \"difficulty\", \"url\"]]\n",
        "recommendations.reset_index(drop=True, inplace=True)\n",
        "\n",
        "print(\"🎯 Top Recommendations for the User:\")\n",
        "display(recommendations)"
      ]
    },
    {
      "cell_type": "code",
      "execution_count": null,
      "metadata": {
        "colab": {
          "base_uri": "https://localhost:8080/"
        },
        "id": "2T8wEqD-Tb_e",
        "outputId": "befc8913-d1ce-44b3-8c1f-b35e1bf0df7d"
      },
      "outputs": [
        {
          "name": "stdout",
          "output_type": "stream",
          "text": [
            "Reading package lists... Done\n",
            "Building dependency tree... Done\n",
            "Reading state information... Done\n",
            "git is already the newest version (1:2.34.1-1ubuntu1.15).\n",
            "0 upgraded, 0 newly installed, 0 to remove and 41 not upgraded.\n"
          ]
        }
      ],
      "source": [
        "!apt install git -y\n"
      ]
    },
    {
      "cell_type": "code",
      "execution_count": null,
      "metadata": {
        "id": "ZK1_6YY5W5E1"
      },
      "outputs": [],
      "source": [
        "!git config --global user.name \"rahularulbalan-011105\"\n",
        "!git config --global user.email \"23d101@psgitech.ac.in\""
      ]
    },
    {
      "cell_type": "code",
      "execution_count": 35,
      "metadata": {
        "colab": {
          "base_uri": "https://localhost:8080/"
        },
        "id": "L6IftzXbX3rw",
        "outputId": "d688ebe0-783e-4764-ce1f-b079a208d6fb"
      },
      "outputs": [
        {
          "output_type": "stream",
          "name": "stdout",
          "text": [
            "✅ Cleaned notebook metadata and saved: /content/drive/MyDrive/rs_project/Untitled0.ipynb\n"
          ]
        }
      ],
      "source": [
        "import nbformat\n",
        "\n",
        "# Correct path to the notebook within the cloned repository\n",
        "path = \"/content/drive/MyDrive/rs_project/Untitled0.ipynb\"\n",
        "\n",
        "# Load notebook\n",
        "with open(path, \"r\", encoding=\"utf-8\") as f:\n",
        "    nb = nbformat.read(f, as_version=nbformat.NO_CONVERT)\n",
        "\n",
        "# Safely remove problematic widget metadata\n",
        "if \"widgets\" in nb.get(\"metadata\", {}):\n",
        "    del nb[\"metadata\"][\"widgets\"]\n",
        "\n",
        "# Save back clean notebook\n",
        "with open(path, \"w\", encoding=\"utf-8\") as f:\n",
        "    nbformat.write(nb, f)\n",
        "print(\"✅ Cleaned notebook metadata and saved:\", path)"
      ]
    },
    {
      "cell_type": "code",
      "execution_count": null,
      "metadata": {
        "id": "nLrbjYBRY2vX"
      },
      "outputs": [],
      "source": []
    }
  ],
  "metadata": {
    "accelerator": "GPU",
    "colab": {
      "gpuType": "T4",
      "provenance": [],
      "mount_file_id": "1iANZbS8rP_8nWnvNvHyHRvaUXrhaOHjJ",
      "authorship_tag": "ABX9TyPD2lRZfI8/e8ESSLxHUHDr",
      "include_colab_link": true
    },
    "kernelspec": {
      "display_name": "Python 3",
      "name": "python3"
    },
    "language_info": {
      "name": "python"
    }
  },
  "nbformat": 4,
  "nbformat_minor": 0
}
